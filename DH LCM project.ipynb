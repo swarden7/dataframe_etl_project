{
 "cells": [
  {
   "cell_type": "code",
   "execution_count": 1,
   "id": "875cc88f-e08d-47c3-950b-0a0a06629c88",
   "metadata": {},
   "outputs": [],
   "source": [
    "import smartsheet_dataframe as sms\n",
    "import pandas as pd\n",
    "import numpy as np\n",
    "token = #your access token\n",
    "lcm_ind1_id = 8801004925439876 #sheet1 IND-LAB data\n",
    "lcm_ind0_id = 1339307588904836 #historical data (pre 2023 data) IND-LAB data\n",
    "lcm_bn1_id = 1540237486411652 #sheet1 HARD-BN data\n",
    "lcm_bn2_id = 7164483025719172 #sheet2 HARD-BN data"
   ]
  },
  {
   "cell_type": "code",
   "execution_count": 2,
   "id": "21b89e6c-9c08-4e71-9467-de1417d347d4",
   "metadata": {},
   "outputs": [],
   "source": [
    "def fix_percentage_bool(column):\n",
    "    column = column.astype(str)  \n",
    "    column = column.str.replace('%', '')  \n",
    "    column = column.astype(float) / 100  \n",
    "    column = column.apply(lambda x: 1 if 0 < x < 1 else x)  \n",
    "    return column\n",
    "\n",
    "def fix_percentage(column):\n",
    "    column = column.astype(str)  \n",
    "    column = column.str.replace('%', '')  \n",
    "    column = column.astype(float) / 100    \n",
    "    return column"
   ]
  },
  {
   "cell_type": "code",
   "execution_count": 3,
   "id": "f6cb5f57-1834-469b-b1db-2596a3c91c18",
   "metadata": {},
   "outputs": [],
   "source": [
    "#IND-LAB EXTRACTION\n",
    "lcm_ind1 = sms.get_sheet_as_df(token=token, sheet_id=lcm_ind1_id)\n",
    "lcm_ind1 = lcm_ind1.astype(str)\n",
    "lcm_ind0 = sms.get_sheet_as_df(token=token, sheet_id=lcm_ind0_id)\n",
    "lcm_ind0 = lcm_ind0.astype(str)"
   ]
  },
  {
   "cell_type": "code",
   "execution_count": 4,
   "id": "140a8fc6-0adc-4f95-9704-4d00c0b2c8fb",
   "metadata": {},
   "outputs": [],
   "source": [
    "#IND-LAB COLUMN HOMOLOGATION & APPEND\n",
    "lcm_ind0 = lcm_ind0.rename(columns={'#Embryos extracted': '#Total Embryos', '#Diploids': '#Diploids Embryos', '#Haploids': '#Haploids Embryos'})\n",
    "lcm_ind0 = lcm_ind0.drop(['row_id', 'parent_id', 'id','Petri 1', '#Pollin. Plants', '%Pollin. Plants', '#Surviv. Plants', 'Embryo Size', 'ER Method'], axis=1)\n",
    "lcm_ind1 = lcm_ind1.drop(['row_id', 'parent_id'], axis=1)\n",
    "merged_ind = pd.concat([lcm_ind0, lcm_ind1], ignore_index=True)\n",
    "#merged_ind.describe()"
   ]
  },
  {
   "cell_type": "code",
   "execution_count": 5,
   "id": "b0aa2bdb-e574-435d-a7d2-8d9c236a8680",
   "metadata": {},
   "outputs": [],
   "source": [
    "#IND-LAB DATA FORMAT AND CLEANING\n",
    "merged_ind['IND-ID'] = merged_ind['IND-ID'].str.replace('.0', '', regex=False).astype(str)\n",
    "merged_ind['Plant ID'] = pd.to_numeric(merged_ind['Plant ID'], errors='coerce')\n",
    "merged_ind = merged_ind[pd.notnull(merged_ind['Plant ID'])]\n",
    "merged_ind.replace('', np.nan, inplace=True)\n",
    "ind_int_columns = ['Shoot (DAS)', 'Silk Prep (DAS)', 'Pollination (DAS)', 'Silk to Poll (Days)', 'Harvest (DAS)', '#Total Embryos', '#Diploids Embryos', '#Haploids Embryos', '#Dead Embryos', '#Embryos in Petri', 'Embryos Wavin', 'Harvest to proces (days)', 'Total selected seedlings', 'Category 3 seedlings', 'Category 2 seedlings', 'Category 1 seedlings']\n",
    "ind_float_columns = ['%Haploidy', 'Stalk diameter (cm)', 'Ear height (cm)', 'Ear lenght (cm)']\n",
    "\n",
    "merged_ind[ind_int_columns] = merged_ind[ind_int_columns].astype(float)\n",
    "merged_ind[ind_float_columns] = merged_ind[ind_float_columns].astype(float)\n",
    "\n",
    "merged_ind['%Germin.'] = fix_percentage_bool(merged_ind['%Germin.'])\n",
    "merged_ind['%Pollination'] = fix_percentage_bool(merged_ind['%Pollination'])\n",
    "merged_ind['Germination Test 1 (0m)'] = fix_percentage(merged_ind['Germination Test 1 (0m)'])\n",
    "merged_ind['Germination Test 2 (3m)'] = fix_percentage(merged_ind['Germination Test 2 (3m)'])\n",
    "merged_ind['Germination Test 3 (6m)'] = fix_percentage(merged_ind['Germination Test 3 (6m)'])\n",
    "#merged_ind.info()"
   ]
  },
  {
   "cell_type": "code",
   "execution_count": 6,
   "id": "0f2a48c5-0016-4593-9b32-46752c79041c",
   "metadata": {},
   "outputs": [],
   "source": [
    "#HARD-BN EXTRACTION\n",
    "lcm_bn1 = sms.get_sheet_as_df(token=token, sheet_id=lcm_bn1_id)\n",
    "lcm_bn1 = lcm_bn1.astype(str)\n",
    "lcm_bn2 = sms.get_sheet_as_df(token=token, sheet_id=lcm_bn2_id)\n",
    "lcm_bn2 = lcm_bn2.astype(str)"
   ]
  },
  {
   "cell_type": "code",
   "execution_count": 7,
   "id": "fd49a080-8060-4561-97ed-452428139229",
   "metadata": {},
   "outputs": [],
   "source": [
    "#HARD-BN COLUMN HOMOLOGATION & APPEND\n",
    "merged_bn = pd.concat([lcm_bn1, lcm_bn2], ignore_index=True)\n",
    "merged_bn = merged_bn.drop(['row_id', 'parent_id'], axis=1)"
   ]
  },
  {
   "cell_type": "code",
   "execution_count": 8,
   "id": "34d4ce5d-273e-4f1f-be8e-10120027557c",
   "metadata": {},
   "outputs": [],
   "source": [
    "#HARD-BN DATA FORMAT AND CLEANING\n",
    "merged_bn.replace('', np.nan, inplace=True)\n",
    "merged_bn['IND-ID'] = merged_bn['IND-ID'].str.replace('.0', '', regex=False).astype(str)\n",
    "merged_bn = merged_bn.drop(['Induction MATID', 'Site','Planting number','Planting time','Planting size','GH Type','GH number','Plant ID','Region','is parent'],axis=1)\n",
    "bn_float_columns = ['Selection to Potting (days)', 'Potted plants', 'Potting to Trasplant (days)', 'Field trasplant count', 'N° of plant germinated', 'Survival rate', 'Trasplant to Pollination (days)', 'Nursery pollination count', 'Nursery stem diameter (cm)', 'Nursery ear height (cm)', 'Nursery harvest count', 'Pollination to Harvest (days)', 'Nursery ear length (cm)', 'Kernels by ear']\n",
    "merged_bn[bn_float_columns] = merged_bn[bn_float_columns].astype(float)\n",
    "#merged_bn.info()"
   ]
  },
  {
   "cell_type": "code",
   "execution_count": 9,
   "id": "3338a34f-f5c5-419e-b854-46a11c5bb761",
   "metadata": {},
   "outputs": [
    {
     "name": "stdout",
     "output_type": "stream",
     "text": [
      "Merged Induction Data successfully merged and exported to merged_ind.csv\n",
      "Merged BN Data successfully merged and exported to merged_bn.csv\n",
      "Full LCM Data successfully merged and exported to full_lcm_data.csv\n"
     ]
    }
   ],
   "source": [
    "#FULL LCM DATA MERGING & EXPORT\n",
    "full_lcm_data = pd.merge(merged_ind, merged_bn, on='IND-ID', how='left')\n",
    "filepath = 'merged_ind.csv'\n",
    "merged_ind.to_csv(filepath, index=False)\n",
    "print(f\"Merged Induction Data successfully merged and exported to {filepath}\")\n",
    "filepath = 'merged_bn.csv'\n",
    "merged_bn.to_csv(filepath, index=False)\n",
    "print(f\"Merged BN Data successfully merged and exported to {filepath}\")\n",
    "filepath = 'full_lcm_data.csv'\n",
    "full_lcm_data.to_csv(filepath, index=False)\n",
    "print(f\"Full LCM Data successfully merged and exported to {filepath}\")"
   ]
  }
 ],
 "metadata": {
  "kernelspec": {
   "display_name": "Python 3 (ipykernel)",
   "language": "python",
   "name": "python3"
  },
  "language_info": {
   "codemirror_mode": {
    "name": "ipython",
    "version": 3
   },
   "file_extension": ".py",
   "mimetype": "text/x-python",
   "name": "python",
   "nbconvert_exporter": "python",
   "pygments_lexer": "ipython3",
   "version": "3.11.7"
  }
 },
 "nbformat": 4,
 "nbformat_minor": 5
}
