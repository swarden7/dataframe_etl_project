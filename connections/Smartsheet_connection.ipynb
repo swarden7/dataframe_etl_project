{
 "cells": [
  {
   "cell_type": "markdown",
   "id": "376f485e-f566-421d-9e45-5b2f6a0506bd",
   "metadata": {
    "tags": []
   },
   "source": [
    "## Plantilla de conexión a Smartsheet API\n",
    "\n",
    "Este notebook proporciona una plantilla para conectarte a una cuenta de Smartsheet mediante la API y utilizar un archivo `.env` para proteger datos sensibles.\n",
    "\n",
    "### Requisitos previos\n",
    "\n",
    "Antes de comenzar, asegúrate de tener lo siguiente:\n",
    "\n",
    "- Una cuenta de Smartsheet válida\n",
    "- Las credenciales de la API de Smartsheet (access token)\n",
    "- El paquete `smartsheet-python-sdk` instalado en tu entorno de Jupyter Notebook\n",
    "- El paquete `smartsheet-dataframe` instalado para facilidad de extracción de datos \n",
    "\n",
    "### Configuración\n",
    "\n",
    "Crea un archivo `.env` en el directorio raíz de tu proyecto y agrega tus credenciales de la API de Smartsheet en el siguiente formato: 'SS_TOKEN=' {tu token}\n"
   ]
  },
  {
   "cell_type": "code",
   "execution_count": 12,
   "id": "11c52ab6-ea23-421f-855e-9f4bfc1198f2",
   "metadata": {
    "tags": []
   },
   "outputs": [
    {
     "data": {
      "text/plain": [
       "True"
      ]
     },
     "execution_count": 12,
     "metadata": {},
     "output_type": "execute_result"
    }
   ],
   "source": [
    "#!pip install smartsheet-dataframe #descomenta para instalar en tu entorno\n",
    "#!pip install smartsheet-python-sdk #descomenta para instalar en tu entorno\n",
    "import smartsheet_dataframe as sms\n",
    "import smartsheet\n",
    "from dotenv import load_dotenv\n",
    "import os\n",
    "import pandas as pd\n",
    "import numpy as np\n",
    "load_dotenv('creds.env') #en tu archivo .env agrega las credenciales necesarias (token), en este codigo la clave es SS_TOKEN"
   ]
  },
  {
   "cell_type": "code",
   "execution_count": 18,
   "id": "094cd6dc-44b6-437e-aa0a-8f020f773fb9",
   "metadata": {},
   "outputs": [
    {
     "ename": "SyntaxError",
     "evalue": "invalid syntax (1726575953.py, line 1)",
     "output_type": "error",
     "traceback": [
      "\u001b[0;36m  Cell \u001b[0;32mIn[18], line 1\u001b[0;36m\u001b[0m\n\u001b[0;31m    sheet_id = #agrega el id de la hoja\u001b[0m\n\u001b[0m               ^\u001b[0m\n\u001b[0;31mSyntaxError\u001b[0m\u001b[0;31m:\u001b[0m invalid syntax\n"
     ]
    }
   ],
   "source": [
    "#Cargar una hoja a un dataframe\n",
    "sheet_id = #agrega el id de la hoja\n",
    "sheet = sms.get_sheet_as_df(token=os.getenv('SS_TOKEN'), sheet_id=sheet_id)\n",
    "sheet.head()"
   ]
  },
  {
   "cell_type": "code",
   "execution_count": null,
   "id": "306aebb4-9b6e-4ed4-9b77-75c46f88cba5",
   "metadata": {},
   "outputs": [],
   "source": []
  }
 ],
 "metadata": {
  "kernelspec": {
   "display_name": "Python 3 (ipykernel)",
   "language": "python",
   "name": "python3"
  },
  "language_info": {
   "codemirror_mode": {
    "name": "ipython",
    "version": 3
   },
   "file_extension": ".py",
   "mimetype": "text/x-python",
   "name": "python",
   "nbconvert_exporter": "python",
   "pygments_lexer": "ipython3",
   "version": "3.11.7"
  }
 },
 "nbformat": 4,
 "nbformat_minor": 5
}
